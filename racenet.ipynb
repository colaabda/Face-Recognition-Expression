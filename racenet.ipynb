{
 "cells": [
  {
   "cell_type": "code",
   "execution_count": null,
   "metadata": {},
   "outputs": [],
   "source": [
    "# ! pip install face_recognition"
   ]
  },
  {
   "cell_type": "code",
   "execution_count": null,
   "metadata": {},
   "outputs": [
    {
     "name": "stderr",
     "output_type": "stream",
     "text": [
      "WARNING: All log messages before absl::InitializeLog() is called are written to STDERR\n",
      "I0000 00:00:1742924170.160338   41389 gl_context_egl.cc:85] Successfully initialized EGL. Major : 1 Minor: 5\n",
      "I0000 00:00:1742924170.180630   41462 gl_context.cc:369] GL version: 3.2 (OpenGL ES 3.2 NVIDIA 550.120), renderer: NVIDIA GeForce RTX 3050 Laptop GPU/PCIe/SSE2\n",
      "INFO: Created TensorFlow Lite XNNPACK delegate for CPU.\n",
      "W0000 00:00:1742924170.183473   41457 inference_feedback_manager.cc:114] Feedback manager requires a model with a single signature inference. Disabling support for feedback tensors.\n",
      "W0000 00:00:1742924170.189993   41459 inference_feedback_manager.cc:114] Feedback manager requires a model with a single signature inference. Disabling support for feedback tensors.\n"
     ]
    },
    {
     "name": "stdout",
     "output_type": "stream",
     "text": [
      "5 image encoded from /home/abir/Documents/FaceNet/data/\n"
     ]
    },
    {
     "name": "stderr",
     "output_type": "stream",
     "text": [
      "W0000 00:00:1742924174.924140   41458 landmark_projection_calculator.cc:186] Using NORM_RECT without IMAGE_DIMENSIONS is only supported for the square ROI. Provide IMAGE_DIMENSIONS or use PROJECTION_MATRIX.\n"
     ]
    }
   ],
   "source": [
    "import cv2\n",
    "import face_recognition\n",
    "import os\n",
    "import numpy as np\n",
    "import mediapipe as mp\n",
    "\n",
    "folder_path = \"/home/abir/Documents/FaceNet/data/\"\n",
    "classes = []\n",
    "image_encodings = []\n",
    "face_mesh = mp.solutions.face_mesh\n",
    "ob_facemesh = face_mesh.FaceMesh()\n",
    "\n",
    "def face_mesh_block(frame):\n",
    "    RGB_image = cv2.cvtColor(frame, cv2.COLOR_BGR2RGB)\n",
    "    height, width, _ = RGB_image.shape\n",
    "\n",
    "    meshed_image = ob_facemesh.process(RGB_image)\n",
    "\n",
    "    if meshed_image.multi_face_landmarks:  \n",
    "        for facial_landmarks in meshed_image.multi_face_landmarks:\n",
    "            for i in range(468):  \n",
    "                point = facial_landmarks.landmark[i]\n",
    "                x = int(point.x * width)\n",
    "                y = int(point.y * height)\n",
    "\n",
    "                cv2.circle(frame, (x, y), 1, (0, 255, 0), -1) \n",
    "    return frame\n",
    "\n",
    "def prepare_encodings(folder_path):\n",
    "    dir_content = os.listdir(folder_path)\n",
    "    \n",
    "    for file_name in dir_content:\n",
    "        image_path = os.path.join(folder_path, file_name)\n",
    "        image = cv2.imread(image_path)\n",
    "        rgb_image = cv2.cvtColor(image, cv2.COLOR_BGR2RGB)\n",
    "        encodings = face_recognition.face_encodings(rgb_image)\n",
    "\n",
    "        if encodings:  \n",
    "            image_encodings.append(encodings[0])\n",
    "            classes.append(file_name[:-4]) \n",
    "    \n",
    "    print(f\"{len(image_encodings)} Image encoded from {folder_path}\")\n",
    "\n",
    "\n",
    "def compare_images(img):\n",
    "    rgb_img = cv2.cvtColor(img, cv2.COLOR_BGR2RGB)\n",
    "\n",
    "    face_locations = face_recognition.face_locations(rgb_img)\n",
    "    face_encodings = face_recognition.face_encodings(rgb_img, face_locations)\n",
    "\n",
    "    if not face_encodings:  \n",
    "        return img, \"No Face Detected\"\n",
    "\n",
    "    for encoding, (top, right, bottom, left) in zip(face_encodings, face_locations):\n",
    "        matches = face_recognition.compare_faces(image_encodings, encoding)\n",
    "        distances = face_recognition.face_distance(image_encodings, encoding)\n",
    "\n",
    "        best_match_index = np.argmin(distances)  \n",
    "        if matches[best_match_index]:  \n",
    "            name = classes[best_match_index].upper()\n",
    "        else:\n",
    "            name = \"NO MATCH\"\n",
    "        cv2.rectangle(img, (left, top), (right, bottom), (0, 255, 0), 2)\n",
    "        cv2.putText(img, name, (50,50), cv2.FONT_HERSHEY_SIMPLEX, 0.6, (255, 0, 0), 2)\n",
    "\n",
    "    return img, name\n",
    "   \n",
    "\n",
    "\n",
    "if __name__ == \"__main__\":\n",
    "    prepare_encodings(folder_path)\n",
    "\n",
    "    # IMADGE INFERENCE\n",
    "    # test_image_path = \"/home/abir/Documents/FaceNet/Dhoni-test.jpeg\"\n",
    "    # test_image_path = \"/home/abir/Documents/FaceNet/Ghambhir-test.jpeg\"\n",
    "    test_image_path = \"/home/abir/Documents/FaceNet/kat-test.jpeg\"  #  Demostrating NO MATCH cases \n",
    "\n",
    "\n",
    "    test_image = cv2.imread(test_image_path)\n",
    "    test_image = cv2.resize(test_image,(600,400))\n",
    "    result_img, result_name = compare_images(test_image)\n",
    "\n",
    "    mesh_result_img = face_mesh_block(frame=result_img)\n",
    "\n",
    "    cv2.imshow(\"Face Recognition\",mesh_result_img)\n",
    "    cv2.waitKey(0)\n",
    "\n",
    "    # REAL TIME INFERENCE       \n",
    " \n",
    "    # cap = cv2.VideoCapture(0)       # UNCOMMENT TO TEST REAL TIME INFERENCE WITH WEB-CAM\n",
    "    # while cap.isOpened():\n",
    "    #     ret, frame = cap.read()\n",
    "    #     if not ret:\n",
    "    #         print(\"Check Camera Index\")\n",
    "    #         break\n",
    "    #     frame = cv2.resize(frame,(600,400))\n",
    "    #     result_img, result_name = compare_images(frame)\n",
    "    #     mesh_result_img = face_mesh_block(frame=result_img)\n",
    "    #     cv2.imshow(\"Face Recognition\", mesh_result_img)\n",
    "\n",
    "    #     if cv2.waitKey(1) & 0xFF == ord('q'):\n",
    "    #         break\n",
    "\n",
    "    # cap.release()\n",
    "    # cv2.destroyAllWindows()\n"
   ]
  }
 ],
 "metadata": {
  "kernelspec": {
   "display_name": "ultra_en",
   "language": "python",
   "name": "python3"
  },
  "language_info": {
   "codemirror_mode": {
    "name": "ipython",
    "version": 3
   },
   "file_extension": ".py",
   "mimetype": "text/x-python",
   "name": "python",
   "nbconvert_exporter": "python",
   "pygments_lexer": "ipython3",
   "version": "3.10.14"
  }
 },
 "nbformat": 4,
 "nbformat_minor": 2
}
